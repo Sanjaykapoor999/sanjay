{
  "nbformat": 4,
  "nbformat_minor": 0,
  "metadata": {
    "colab": {
      "provenance": []
    },
    "kernelspec": {
      "name": "python3",
      "display_name": "Python 3"
    },
    "language_info": {
      "name": "python"
    }
  },
  "cells": [
    {
      "cell_type": "code",
      "execution_count": null,
      "metadata": {
        "id": "kxN4XXyh3O0m"
      },
      "outputs": [],
      "source": [
        "#for google colab\n",
        "\n",
        "from google.colab import drive\n",
        "\n",
        "# Mount your Google Drive\n",
        "drive.mount('/content/drive')\n",
        "\n",
        "# Assuming the file is inside a folder named 'MyFiles' on your Google Drive\n",
        "file_path = '/content/drive/My Drive/MyFiles/data.txt'\n",
        "\n",
        "# Read the file\n",
        "with open(file_path, 'r', encoding='utf-8') as file:\n",
        "    raw_text = file.read().lower()\n",
        "\n",
        "# Print the content of the file to verify\n",
        "print(raw_text)\n"
      ]
    },
    {
      "cell_type": "code",
      "source": [
        "#or\n",
        "\n",
        "from google.colab import files\n",
        "\n",
        "# Upload the file 'data.txt' from your local system to Google Colab\n",
        "uploaded = files.upload()\n",
        "\n",
        "# Assuming 'data.txt' is uploaded, read the file\n",
        "filename = 'data.txt'\n",
        "raw_text = uploaded[filename].decode('utf-8').lower()\n",
        "\n",
        "# Print the content of the file to verify\n",
        "print(raw_text)\n"
      ],
      "metadata": {
        "id": "wxLbUekS3YRk"
      },
      "execution_count": null,
      "outputs": []
    },
    {
      "cell_type": "code",
      "source": [
        "#libraries\n",
        "\n",
        "#import libraries\n",
        "import numpy\n",
        "from keras.models import Sequential\n",
        "from keras.layers import Dense\n",
        "from keras.layers import Dropout\n",
        "from keras.layers import LSTM\n",
        "from keras.callbacks import ModelCheckpoint\n",
        "from keras.utils import np_utils"
      ],
      "metadata": {
        "id": "gJT0RO5I35d9"
      },
      "execution_count": null,
      "outputs": []
    },
    {
      "cell_type": "markdown",
      "source": [
        "Jupyter"
      ],
      "metadata": {
        "id": "4K1TAw1p3a0Z"
      }
    },
    {
      "cell_type": "code",
      "source": [
        "import os\n",
        "\n",
        "# Specify the path to the directory where your file is located\n",
        "directory_path = r'D:\\2023\\Y3S2\\MLOM\\Practical\\LAB5'\n",
        "\n",
        "# Change the current working directory to the specified directory\n",
        "os.chdir(directory_path)\n",
        "\n",
        "# Now you can read the file using the specified filename\n",
        "filename = 'data.txt'\n",
        "raw_text = open(filename, 'r', encoding='utf-8').read()\n",
        "\n",
        "raw_text = raw_text.lower()\n",
        "\n",
        "# Print the content of the file to verify\n",
        "print(raw_text)"
      ],
      "metadata": {
        "id": "2tiTrASp3aia"
      },
      "execution_count": null,
      "outputs": []
    },
    {
      "cell_type": "code",
      "source": [
        "#libraries\n",
        "pip install tensorflow\n",
        "\n",
        "import numpy as np\n",
        "import tensorflow as tf\n",
        "\n",
        "from keras.models import Sequential\n",
        "from keras.layers import Dense\n",
        "from keras.layers import Dropout\n",
        "from keras.layers import LSTM\n",
        "from keras.callbacks import ModelCheckpoint\n",
        "from keras.utils import to_categorical\n"
      ],
      "metadata": {
        "id": "uP-d7Suf3_Of"
      },
      "execution_count": null,
      "outputs": []
    },
    {
      "cell_type": "code",
      "source": [],
      "metadata": {
        "id": "RyqwQS8TOeTb"
      },
      "execution_count": null,
      "outputs": []
    },
    {
      "cell_type": "code",
      "source": [],
      "metadata": {
        "id": "DaleNOZMOeYv"
      },
      "execution_count": null,
      "outputs": []
    }
  ]
}