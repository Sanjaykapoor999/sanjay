{
 "cells": [
  {
   "cell_type": "markdown",
   "id": "423ea350",
   "metadata": {},
   "source": [
    "## Step 1: Data Preparation"
   ]
  },
  {
   "cell_type": "code",
   "execution_count": 1,
   "id": "13a39a2e",
   "metadata": {},
   "outputs": [],
   "source": [
    "# Sample text data\n",
    "texts = [\"I love this product!\", \"This is terrible.\", \"Great experience.\", \"Worst ever.\", \"Not bad at all.\"]\n",
    "labels = [1, 0, 1, 0, 1]  # 1 for positive sentiment, 0 for negative sentiment\n"
   ]
  },
  {
   "cell_type": "markdown",
   "id": "0ec79593",
   "metadata": {},
   "source": [
    "## Step 2: Text Preprocessing"
   ]
  },
  {
   "cell_type": "code",
   "execution_count": 2,
   "id": "e4a1aeb9",
   "metadata": {},
   "outputs": [],
   "source": [
    "from tensorflow.keras.preprocessing.text import Tokenizer\n",
    "from tensorflow.keras.preprocessing.sequence import pad_sequences\n",
    "\n",
    "# Tokenize the text\n",
    "tokenizer = Tokenizer(num_words=1000)\n",
    "tokenizer.fit_on_texts(texts)\n",
    "sequences = tokenizer.texts_to_sequences(texts)\n",
    "\n",
    "# Pad sequences to have a consistent length\n",
    "max_sequence_length = 10\n",
    "sequences = pad_sequences(sequences, maxlen=max_sequence_length)\n"
   ]
  },
  {
   "cell_type": "markdown",
   "id": "60d03349",
   "metadata": {},
   "source": [
    "## Step 3: Import Libraries"
   ]
  },
  {
   "cell_type": "code",
   "execution_count": 3,
   "id": "3fd5e387",
   "metadata": {},
   "outputs": [],
   "source": [
    "import tensorflow as tf\n",
    "from tensorflow import keras\n"
   ]
  },
  {
   "cell_type": "markdown",
   "id": "f2c46097",
   "metadata": {},
   "source": [
    "## Step 4: Build the RNN Model"
   ]
  },
  {
   "cell_type": "code",
   "execution_count": 4,
   "id": "ef8522c0",
   "metadata": {},
   "outputs": [],
   "source": [
    "model = keras.Sequential()\n"
   ]
  },
  {
   "cell_type": "markdown",
   "id": "342cba28",
   "metadata": {},
   "source": [
    "## Step 5: Define the Input Layer"
   ]
  },
  {
   "cell_type": "code",
   "execution_count": 5,
   "id": "1a49d229",
   "metadata": {},
   "outputs": [],
   "source": [
    "model.add(keras.layers.Input(shape=(max_sequence_length,)))\n"
   ]
  },
  {
   "cell_type": "markdown",
   "id": "4ec7eb96",
   "metadata": {},
   "source": [
    "## Step 6: Add an Embedding Layer"
   ]
  },
  {
   "cell_type": "code",
   "execution_count": 6,
   "id": "662d7591",
   "metadata": {},
   "outputs": [],
   "source": [
    "model.add(keras.layers.Embedding(input_dim=len(tokenizer.word_index) + 1, output_dim=50, input_length=max_sequence_length))\n"
   ]
  },
  {
   "cell_type": "code",
   "execution_count": 7,
   "id": "5ad76b37",
   "metadata": {},
   "outputs": [],
   "source": [
    "# Add a SimpleRNN Layer\n",
    "model.add(keras.layers.SimpleRNN(64, activation='tanh'))"
   ]
  },
  {
   "cell_type": "code",
   "execution_count": 8,
   "id": "02506d67",
   "metadata": {},
   "outputs": [],
   "source": [
    "# Add a Dense Layer\n",
    "model.add(keras.layers.Dense(1, activation='sigmoid'))"
   ]
  },
  {
   "cell_type": "code",
   "execution_count": 9,
   "id": "c63b04f8",
   "metadata": {},
   "outputs": [],
   "source": [
    "# Compile the Model\n",
    "model.compile(loss='binary_crossentropy', optimizer='adam', metrics=['accuracy'])\n"
   ]
  },
  {
   "cell_type": "code",
   "execution_count": 10,
   "id": "d4baf2e1",
   "metadata": {},
   "outputs": [],
   "source": [
    "# Convert labels to a numpy array\n",
    "import numpy as np\n",
    "labels = np.array(labels)"
   ]
  },
  {
   "cell_type": "code",
   "execution_count": 11,
   "id": "e85b2fc8",
   "metadata": {},
   "outputs": [],
   "source": [
    "# Split data into training and testing sets\n",
    "from sklearn.model_selection import train_test_split\n",
    "x_train, x_test, y_train, y_test = train_test_split(sequences, labels, test_size=0.2, random_state=42)\n"
   ]
  },
  {
   "cell_type": "code",
   "execution_count": 12,
   "id": "712128f0",
   "metadata": {},
   "outputs": [
    {
     "name": "stdout",
     "output_type": "stream",
     "text": [
      "Epoch 1/5\n",
      "2/2 [==============================] - 2s 311ms/step - loss: 0.7191 - accuracy: 0.5000 - val_loss: 0.7831 - val_accuracy: 0.0000e+00\n",
      "Epoch 2/5\n",
      "2/2 [==============================] - 0s 37ms/step - loss: 0.6606 - accuracy: 0.7500 - val_loss: 0.9308 - val_accuracy: 0.0000e+00\n",
      "Epoch 3/5\n",
      "2/2 [==============================] - 0s 195ms/step - loss: 0.5977 - accuracy: 0.7500 - val_loss: 1.0711 - val_accuracy: 0.0000e+00\n",
      "Epoch 4/5\n",
      "2/2 [==============================] - 0s 35ms/step - loss: 0.5548 - accuracy: 0.7500 - val_loss: 1.2001 - val_accuracy: 0.0000e+00\n",
      "Epoch 5/5\n",
      "2/2 [==============================] - 0s 36ms/step - loss: 0.5126 - accuracy: 0.7500 - val_loss: 1.2635 - val_accuracy: 0.0000e+00\n"
     ]
    },
    {
     "data": {
      "text/plain": [
       "<keras.src.callbacks.History at 0x1dfc38f3e50>"
      ]
     },
     "execution_count": 12,
     "metadata": {},
     "output_type": "execute_result"
    }
   ],
   "source": [
    "# Train the Model\n",
    "model.fit(x_train, y_train, epochs=5, batch_size=2, validation_data=(x_test, y_test))\n"
   ]
  },
  {
   "cell_type": "code",
   "execution_count": 13,
   "id": "df5075d7",
   "metadata": {},
   "outputs": [
    {
     "name": "stdout",
     "output_type": "stream",
     "text": [
      "1/1 [==============================] - 0s 33ms/step - loss: 1.2635 - accuracy: 0.0000e+00\n",
      "Test Loss: 1.2635327577590942, Test Accuracy: 0.0\n"
     ]
    }
   ],
   "source": [
    "# Evaluate and Test the Model\n",
    "loss, accuracy = model.evaluate(x_test, y_test)\n",
    "print(f\"Test Loss: {loss}, Test Accuracy: {accuracy}\")\n"
   ]
  },
  {
   "cell_type": "code",
   "execution_count": 14,
   "id": "99f0e69b",
   "metadata": {},
   "outputs": [
    {
     "name": "stdout",
     "output_type": "stream",
     "text": [
      "1/1 [==============================] - 0s 180ms/step\n",
      "[[0.71729606]\n",
      " [0.7162537 ]]\n"
     ]
    }
   ],
   "source": [
    "# Make Predictions\n",
    "new_texts = [\"This is amazing!\", \"It's not good.\"]\n",
    "new_sequences = tokenizer.texts_to_sequences(new_texts)\n",
    "new_sequences = pad_sequences(new_sequences, maxlen=max_sequence_length)\n",
    "predictions = model.predict(new_sequences)\n",
    "print(predictions)"
   ]
  }
 ],
 "metadata": {
  "kernelspec": {
   "display_name": "Python 3 (ipykernel)",
   "language": "python",
   "name": "python3"
  },
  "language_info": {
   "codemirror_mode": {
    "name": "ipython",
    "version": 3
   },
   "file_extension": ".py",
   "mimetype": "text/x-python",
   "name": "python",
   "nbconvert_exporter": "python",
   "pygments_lexer": "ipython3",
   "version": "3.11.4"
  }
 },
 "nbformat": 4,
 "nbformat_minor": 5
}
