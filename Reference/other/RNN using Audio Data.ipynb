{
 "cells": [
  {
   "cell_type": "markdown",
   "id": "c38be697",
   "metadata": {},
   "source": [
    "## Data Preparation"
   ]
  },
  {
   "cell_type": "code",
   "execution_count": null,
   "id": "67c143de",
   "metadata": {},
   "outputs": [],
   "source": [
    "#Data Preparation\n",
    "import librosa\n",
    "import os"
   ]
  },
  {
   "cell_type": "markdown",
   "id": "4d4a251a",
   "metadata": {},
   "source": [
    "## Load and extract MFCC features from audio files"
   ]
  },
  {
   "cell_type": "code",
   "execution_count": null,
   "id": "835e9ecf",
   "metadata": {},
   "outputs": [],
   "source": [
    "# Load and extract MFCC features from audio files\n",
    "audio_data = []\n",
    "labels = []\n",
    "\n",
    "\n",
    "audio_dir = \"your_audio_data_directory\"\n",
    "for filename in os.listdir(audio_dir):\n",
    "    if filename.endswith(\".wav\"):\n",
    "        audio, _ = librosa.load(os.path.join(audio_dir, filename), sr=16000)  # Load audio at a specific sample rate\n",
    "        mfccs = librosa.feature.mfcc(y=audio, sr=16000, n_mfcc=13)\n",
    "        audio_data.append(mfccs.T)\n",
    "        labels.append(0)  # Assign labels (0 for one class)\n"
   ]
  },
  {
   "cell_type": "markdown",
   "id": "c9a481a2",
   "metadata": {},
   "source": [
    "## Audio Preprocessing"
   ]
  },
  {
   "cell_type": "code",
   "execution_count": null,
   "id": "d4c24354",
   "metadata": {},
   "outputs": [],
   "source": [
    "#Audio Preprocessing\n",
    "import numpy as np\n",
    "\n",
    "# Preprocess and organize audio features into sequences\n",
    "sequence_length = 100  # Set a sequence length\n",
    "n_features = mfccs.shape[0]\n",
    "n_frames = mfccs.shape[1]\n",
    "\n",
    "audio_data_sequences = []\n",
    "for mfcc in audio_data:\n",
    "    for i in range(0, n_frames - sequence_length, sequence_length):\n",
    "        audio_data_sequences.append(mfcc[:, i:i+sequence_length])\n",
    "\n",
    "audio_data_sequences = np.array(audio_data_sequences)\n"
   ]
  },
  {
   "cell_type": "markdown",
   "id": "5ecec3d8",
   "metadata": {},
   "source": [
    "## Building the RNN Model"
   ]
  },
  {
   "cell_type": "code",
   "execution_count": null,
   "id": "c7a059c2",
   "metadata": {},
   "outputs": [],
   "source": [
    "#Building the RNN Model\n",
    "import tensorflow as tf\n",
    "from tensorflow import keras\n",
    "\n",
    "model = keras.Sequential()\n",
    "model.add(keras.layers.Input(shape=(sequence_length, n_features)))\n",
    "model.add(keras.layers.GRU(64, return_sequences=True))\n",
    "model.add(keras.layers.GRU(64, return_sequences=False))\n",
    "model.add(keras.layers.Dense(1, activation='sigmoid'))  # 1 for binary classification\n"
   ]
  },
  {
   "cell_type": "markdown",
   "id": "870ea02b",
   "metadata": {},
   "source": [
    "## Compile the Model"
   ]
  },
  {
   "cell_type": "code",
   "execution_count": null,
   "id": "e421952c",
   "metadata": {},
   "outputs": [],
   "source": [
    "#Compile the Model\n",
    "model.compile(loss='binary_crossentropy', optimizer='adam', metrics=['accuracy'])\n",
    "\n"
   ]
  },
  {
   "cell_type": "markdown",
   "id": "2d281e25",
   "metadata": {},
   "source": [
    "## Train the Model"
   ]
  },
  {
   "cell_type": "code",
   "execution_count": null,
   "id": "8f938bdf",
   "metadata": {},
   "outputs": [],
   "source": [
    "#Train the Model\n",
    "# Split data into training and testing sets\n",
    "from sklearn.model_selection import train_test_split\n",
    "x_train, x_test, y_train, y_test = train_test_split(audio_data_sequences, labels, test_size=0.2, random_state=42)\n",
    "\n",
    "# Train the model\n",
    "model.fit(x_train, y_train, epochs=10, batch_size=2, validation_data=(x_test, y_test))\n"
   ]
  }
 ],
 "metadata": {
  "kernelspec": {
   "display_name": "Python 3 (ipykernel)",
   "language": "python",
   "name": "python3"
  },
  "language_info": {
   "codemirror_mode": {
    "name": "ipython",
    "version": 3
   },
   "file_extension": ".py",
   "mimetype": "text/x-python",
   "name": "python",
   "nbconvert_exporter": "python",
   "pygments_lexer": "ipython3",
   "version": "3.11.4"
  }
 },
 "nbformat": 4,
 "nbformat_minor": 5
}
