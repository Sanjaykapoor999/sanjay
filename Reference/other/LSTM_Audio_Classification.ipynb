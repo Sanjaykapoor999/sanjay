{
 "cells": [
  {
   "cell_type": "markdown",
   "id": "5e6069fd",
   "metadata": {},
   "source": [
    "## Data Preparation"
   ]
  },
  {
   "cell_type": "code",
   "execution_count": null,
   "id": "15a59f60",
   "metadata": {},
   "outputs": [],
   "source": [
    "import librosa\n",
    "import os\n",
    "\n",
    "# Load and extract MFCC features from audio files\n",
    "audio_data = []\n",
    "labels = []\n",
    "\n",
    "audio_dir = \"your_audio_data_directory\"\n",
    "for filename in os.listdir(audio_dir):\n",
    "    if filename.endswith(\".wav\"):\n",
    "        audio, _ = librosa.load(os.path.join(audio_dir, filename), sr=16000)  # Load audio at a specific sample rate\n",
    "        mfccs = librosa.feature.mfcc(y=audio, sr=16000, n_mfcc=13)\n",
    "        audio_data.append(mfccs.T)\n",
    "        labels.append(0)  # Assign labels (0 for one class)\n"
   ]
  },
  {
   "cell_type": "markdown",
   "id": "157fd4b1",
   "metadata": {},
   "source": [
    "## Audio Preprocessing"
   ]
  },
  {
   "cell_type": "code",
   "execution_count": null,
   "id": "a991f244",
   "metadata": {},
   "outputs": [],
   "source": [
    "import numpy as np\n",
    "\n",
    "# Preprocess and organize audio features into sequences\n",
    "sequence_length = 100  # Set a sequence length\n",
    "n_features = mfccs.shape[0]\n",
    "n_frames = mfccs.shape[1]\n",
    "\n",
    "audio_data_sequences = []\n",
    "for mfcc in audio_data:\n",
    "    for i in range(0, n_frames - sequence_length, sequence_length):\n",
    "        audio_data_sequences.append(mfcc[:, i:i+sequence_length])\n",
    "\n",
    "audio_data_sequences = np.array(audio_data_sequences)\n"
   ]
  },
  {
   "cell_type": "markdown",
   "id": "d530993d",
   "metadata": {},
   "source": [
    "## Importing the Libraries"
   ]
  },
  {
   "cell_type": "code",
   "execution_count": null,
   "id": "ca986bc4",
   "metadata": {},
   "outputs": [],
   "source": [
    "import tensorflow as tf\n",
    "from tensorflow import keras\n"
   ]
  },
  {
   "cell_type": "markdown",
   "id": "b87c3a69",
   "metadata": {},
   "source": [
    "## Build the LSTM Model"
   ]
  },
  {
   "cell_type": "code",
   "execution_count": null,
   "id": "58474858",
   "metadata": {},
   "outputs": [],
   "source": [
    "model = keras.Sequential()\n",
    "model.add(keras.layers.Input(shape=(sequence_length, n_features)))\n",
    "model.add(keras.layers.LSTM(64, return_sequences=True))\n",
    "model.add(keras.layers.LSTM(64, return_sequences=False))\n",
    "model.add(keras.layers.Dense(1, activation='sigmoid'))  # 1 for binary classification\n"
   ]
  },
  {
   "cell_type": "markdown",
   "id": "6f8a8dce",
   "metadata": {},
   "source": [
    "## Compile the Model"
   ]
  },
  {
   "cell_type": "code",
   "execution_count": null,
   "id": "35761873",
   "metadata": {},
   "outputs": [],
   "source": [
    "model.compile(loss='binary_crossentropy', optimizer='adam', metrics=['accuracy'])\n"
   ]
  },
  {
   "cell_type": "markdown",
   "id": "ebca1134",
   "metadata": {},
   "source": [
    "## Train the Model"
   ]
  },
  {
   "cell_type": "code",
   "execution_count": null,
   "id": "df0a65bf",
   "metadata": {},
   "outputs": [],
   "source": [
    "# Split data into training and testing sets\n",
    "from sklearn.model_selection import train_test_split\n",
    "x_train, x_test, y_train, y_test = train_test_split(audio_data_sequences, labels, test_size=0.2, random_state=42)\n",
    "\n",
    "# Train the model\n",
    "model.fit(x_train, y_train, epochs=10, batch_size=2, validation_data=(x_test, y_test))\n"
   ]
  }
 ],
 "metadata": {
  "kernelspec": {
   "display_name": "Python 3 (ipykernel)",
   "language": "python",
   "name": "python3"
  },
  "language_info": {
   "codemirror_mode": {
    "name": "ipython",
    "version": 3
   },
   "file_extension": ".py",
   "mimetype": "text/x-python",
   "name": "python",
   "nbconvert_exporter": "python",
   "pygments_lexer": "ipython3",
   "version": "3.11.4"
  }
 },
 "nbformat": 4,
 "nbformat_minor": 5
}
