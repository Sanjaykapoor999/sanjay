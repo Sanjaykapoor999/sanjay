{
 "cells": [
  {
   "cell_type": "markdown",
   "id": "df994dae",
   "metadata": {},
   "source": [
    "## Data Preparation"
   ]
  },
  {
   "cell_type": "code",
   "execution_count": null,
   "id": "53d474af",
   "metadata": {},
   "outputs": [],
   "source": [
    "#Data Preparation\n",
    "import cv2\n",
    "import os\n",
    "\n",
    "video_frames = []"
   ]
  },
  {
   "cell_type": "markdown",
   "id": "690eec1b",
   "metadata": {},
   "source": [
    "## Load Video Frames"
   ]
  },
  {
   "cell_type": "code",
   "execution_count": null,
   "id": "307bf1a7",
   "metadata": {},
   "outputs": [],
   "source": [
    "# Load video frames\n",
    "video_dir = \"your_video_frames_directory\"\n",
    "for filename in os.listdir(video_dir):\n",
    "    if filename.endswith(\".jpg\"):\n",
    "        frame = cv2.imread(os.path.join(video_dir, filename))\n",
    "        video_frames.append(frame)\n",
    "\n",
    " "
   ]
  },
  {
   "cell_type": "markdown",
   "id": "8f9d9d0b",
   "metadata": {},
   "source": [
    "## Video Preprocessing"
   ]
  },
  {
   "cell_type": "code",
   "execution_count": null,
   "id": "27071861",
   "metadata": {},
   "outputs": [],
   "source": [
    "#Video Preprocessing\n",
    "import numpy as np\n",
    "from tensorflow.keras.preprocessing.image import img_to_array, array_to_img\n"
   ]
  },
  {
   "cell_type": "markdown",
   "id": "19cbe67b",
   "metadata": {},
   "source": [
    "## Preprocess Frames"
   ]
  },
  {
   "cell_type": "code",
   "execution_count": null,
   "id": "7966d979",
   "metadata": {},
   "outputs": [],
   "source": [
    "# Preprocess frames\n",
    "video_frames = [img_to_array(frame) for frame in video_frames]\n",
    "video_frames = np.array(video_frames) / 255.0  # Normalize pixel values\n",
    "\n",
    "\n"
   ]
  },
  {
   "cell_type": "markdown",
   "id": "72476308",
   "metadata": {},
   "source": [
    "## Build the RNN Model"
   ]
  },
  {
   "cell_type": "code",
   "execution_count": null,
   "id": "102902db",
   "metadata": {},
   "outputs": [],
   "source": [
    "#Build the RNN Model\n",
    "import tensorflow as tf\n",
    "from tensorflow import keras\n",
    "\n",
    "model = keras.Sequential()\n",
    "model.add(keras.layers.SimpleRNN(128, return_sequences=True, input_shape=(sequence_length, frame_height, frame_width, channels)))\n",
    "model.add(keras.layers.TimeDistributed(keras.layers.Dense(256, activation='relu')))\n",
    "model.add(keras.layers.TimeDistributed(keras.layers.Dense(3, activation='sigmoid')))  # 3 for RGB color channels\n",
    "\n"
   ]
  },
  {
   "cell_type": "markdown",
   "id": "3c16beb5",
   "metadata": {},
   "source": [
    "## Compile the Model"
   ]
  },
  {
   "cell_type": "code",
   "execution_count": null,
   "id": "2ca62381",
   "metadata": {},
   "outputs": [],
   "source": [
    "#Compile the Model\n",
    "model.compile(loss='mean_squared_error', optimizer='adam')\n"
   ]
  },
  {
   "cell_type": "markdown",
   "id": "d23ba2cd",
   "metadata": {},
   "source": [
    "## Train the Model"
   ]
  },
  {
   "cell_type": "code",
   "execution_count": null,
   "id": "026f0577",
   "metadata": {},
   "outputs": [],
   "source": [
    "#Train the Model\n",
    "# Split data into training and testing sets\n",
    "from sklearn.model_selection import train_test_split\n",
    "x_train, x_test = train_test_split(video_frames, test_size=0.2, random_state=42)\n",
    "\n",
    "# Train the model\n",
    "model.fit(x_train, x_train, epochs=50, batch_size=2)\n",
    "\n"
   ]
  }
 ],
 "metadata": {
  "kernelspec": {
   "display_name": "Python 3 (ipykernel)",
   "language": "python",
   "name": "python3"
  },
  "language_info": {
   "codemirror_mode": {
    "name": "ipython",
    "version": 3
   },
   "file_extension": ".py",
   "mimetype": "text/x-python",
   "name": "python",
   "nbconvert_exporter": "python",
   "pygments_lexer": "ipython3",
   "version": "3.11.4"
  }
 },
 "nbformat": 4,
 "nbformat_minor": 5
}
