{
 "cells": [
  {
   "cell_type": "markdown",
   "id": "44973601",
   "metadata": {},
   "source": [
    "## TEXT DATA"
   ]
  },
  {
   "cell_type": "code",
   "execution_count": null,
   "id": "06506100",
   "metadata": {},
   "outputs": [],
   "source": [
    "# Import Libraries\n",
    "import tensorflow as tf\n",
    "from tensorflow import keras\n",
    "import numpy as np"
   ]
  },
  {
   "cell_type": "code",
   "execution_count": null,
   "id": "489ea234",
   "metadata": {},
   "outputs": [],
   "source": [
    "# Read text data from a file\n",
    "with open(\"your_text_file.txt\", \"r\") as file:\n",
    "    text = file.read()"
   ]
  },
  {
   "cell_type": "code",
   "execution_count": null,
   "id": "29c2eec3",
   "metadata": {},
   "outputs": [],
   "source": [
    "# Text Preprocessing\n",
    "from tensorflow.keras.preprocessing.text import Tokenizer\n",
    "from tensorflow.keras.preprocessing.sequence import pad_sequences\n",
    "\n",
    "tokenizer = Tokenizer()\n",
    "tokenizer.fit_on_texts([text])\n",
    "total_words = len(tokenizer.word_index) + 1"
   ]
  },
  {
   "cell_type": "code",
   "execution_count": null,
   "id": "a66608c9",
   "metadata": {},
   "outputs": [],
   "source": [
    "# Create input sequences and corresponding target outputs\n",
    "input_sequences = []\n",
    "for i in range(1, len(tokenizer.word_index)):\n",
    "    n_gram_sequence = tokenizer.texts_to_sequences([text.split()[i-1:i+1]])[0]\n",
    "    input_sequences.append(n_gram_sequence)\n",
    "\n",
    "input_sequences = pad_sequences(input_sequences, maxlen=2)\n",
    "\n",
    "xs = input_sequences[:, 0]\n",
    "ys = input_sequences[:, 1]\n"
   ]
  },
  {
   "cell_type": "code",
   "execution_count": null,
   "id": "60c3712b",
   "metadata": {},
   "outputs": [],
   "source": [
    "# Build the RNN Model with GRU\n",
    "model = keras.Sequential()\n",
    "model.add(keras.layers.Embedding(total_words, 100, input_length=2))\n",
    "model.add(keras.layers.GRU(100))\n",
    "model.add(keras.layers.Dense(total_words, activation='softmax'))\n"
   ]
  },
  {
   "cell_type": "code",
   "execution_count": null,
   "id": "b98b7fbf",
   "metadata": {},
   "outputs": [],
   "source": [
    "# Compile the Model\n",
    "model.compile(loss='sparse_categorical_crossentropy', optimizer='adam', metrics=['accuracy'])\n"
   ]
  },
  {
   "cell_type": "code",
   "execution_count": null,
   "id": "319857d8",
   "metadata": {},
   "outputs": [],
   "source": [
    "# Train the Model\n",
    "model.fit(xs, ys, epochs=50)\n"
   ]
  },
  {
   "cell_type": "code",
   "execution_count": null,
   "id": "373fa898",
   "metadata": {},
   "outputs": [],
   "source": [
    "# Generate Text\n",
    "seed_text = \"Once upon a time\"\n",
    "next_words = 100\n",
    "\n",
    "for _ in range(next_words):\n",
    "    token_list = tokenizer.texts_to_sequences([seed_text])[0]\n",
    "    token_list = pad_sequences([token_list], maxlen=2)\n",
    "    predicted = model.predict(token_list, verbose=0)\n",
    "    output_word = \"\"\n",
    "    for word, index in tokenizer.word_index.items():\n",
    "        if index == np.argmax(predicted):\n",
    "            output_word = word\n",
    "            break\n",
    "    seed_text += \" \" + output_word\n",
    "\n",
    "print(seed_text)\n"
   ]
  }
 ],
 "metadata": {
  "kernelspec": {
   "display_name": "Python 3 (ipykernel)",
   "language": "python",
   "name": "python3"
  },
  "language_info": {
   "codemirror_mode": {
    "name": "ipython",
    "version": 3
   },
   "file_extension": ".py",
   "mimetype": "text/x-python",
   "name": "python",
   "nbconvert_exporter": "python",
   "pygments_lexer": "ipython3",
   "version": "3.11.4"
  }
 },
 "nbformat": 4,
 "nbformat_minor": 5
}
